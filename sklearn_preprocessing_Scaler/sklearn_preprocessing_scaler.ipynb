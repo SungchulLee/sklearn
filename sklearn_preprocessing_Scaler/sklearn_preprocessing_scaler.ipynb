{
 "cells": [
  {
   "cell_type": "code",
   "execution_count": 1,
   "metadata": {},
   "outputs": [],
   "source": [
    "import numpy as np\n",
    "\n",
    "x_train = np.array([[ 1., -1.,  2.],\n",
    "                    [ 2.,  0.,  0.],\n",
    "                    [ 0.,  1., -1.]])\n",
    "x_test = np.array([[ 2.,  0.,  1.]])"
   ]
  },
  {
   "cell_type": "markdown",
   "metadata": {},
   "source": [
    "# sklearn.preprocessing.StandardScaler"
   ]
  },
  {
   "cell_type": "code",
   "execution_count": 4,
   "metadata": {},
   "outputs": [
    {
     "name": "stdout",
     "output_type": "stream",
     "text": [
      "(1, 3) (1, 3)\n",
      "[[1.22474487 0.         0.53452248]]\n"
     ]
    }
   ],
   "source": [
    "mu = x_train.mean(axis=0).reshape((1,-1))\n",
    "sigma = x_train.std(axis=0).reshape((1,-1))\n",
    "print(mu.shape, sigma.shape)\n",
    "\n",
    "x_train_standard = (x_train - mu) / sigma \n",
    "x_test_standard = (x_test - mu) / sigma \n",
    "print(x_test_standard)"
   ]
  },
  {
   "cell_type": "code",
   "execution_count": 5,
   "metadata": {},
   "outputs": [
    {
     "name": "stdout",
     "output_type": "stream",
     "text": [
      "[[1.22474487 0.         0.53452248]]\n"
     ]
    }
   ],
   "source": [
    "from sklearn.preprocessing import StandardScaler\n",
    "a = StandardScaler()\n",
    "\n",
    "x_train_standard = a.fit_transform(x_train)\n",
    "x_test_standard = a.transform(x_test) \n",
    "print(x_test_standard)"
   ]
  },
  {
   "cell_type": "markdown",
   "metadata": {},
   "source": [
    "# sklearn.preprocessing.MinMaxScaler"
   ]
  },
  {
   "cell_type": "code",
   "execution_count": 6,
   "metadata": {},
   "outputs": [
    {
     "name": "stdout",
     "output_type": "stream",
     "text": [
      "[[1.         0.5        0.66666667]]\n"
     ]
    }
   ],
   "source": [
    "min_ = x_train.min(axis=0).reshape((1,-1))\n",
    "max_ = x_train.max(axis=0).reshape((1,-1)) \n",
    "\n",
    "x_train_minmax = (x_train - min_) / (max_ - min_)\n",
    "x_test_minmax = (x_test - min_) / (max_ - min_) \n",
    "print(x_test_minmax)"
   ]
  },
  {
   "cell_type": "code",
   "execution_count": 7,
   "metadata": {},
   "outputs": [
    {
     "name": "stdout",
     "output_type": "stream",
     "text": [
      "[[1.         0.5        0.66666667]]\n"
     ]
    }
   ],
   "source": [
    "from sklearn.preprocessing import MinMaxScaler\n",
    "a = MinMaxScaler()\n",
    "\n",
    "x_train_minmax = a.fit_transform(x_train)\n",
    "x_test_minmax = a.transform(x_test) \n",
    "print(x_test_minmax)"
   ]
  },
  {
   "cell_type": "markdown",
   "metadata": {},
   "source": [
    "# sklearn.preprocessing.MaxAbsScaler"
   ]
  },
  {
   "cell_type": "code",
   "execution_count": 9,
   "metadata": {},
   "outputs": [
    {
     "name": "stdout",
     "output_type": "stream",
     "text": [
      "[[1.  0.  0.5]]\n"
     ]
    }
   ],
   "source": [
    "maxabs_ = np.abs(x_train).max(axis=0).reshape((1,-1)) \n",
    "\n",
    "x_train_maxabs = x_train / maxabs_ \n",
    "x_test_maxabs = x_test / maxabs_ \n",
    "print(x_test_maxabs)"
   ]
  },
  {
   "cell_type": "code",
   "execution_count": 10,
   "metadata": {},
   "outputs": [
    {
     "name": "stdout",
     "output_type": "stream",
     "text": [
      "[[1.  0.  0.5]]\n"
     ]
    }
   ],
   "source": [
    "from sklearn.preprocessing import MaxAbsScaler\n",
    "a = MaxAbsScaler()\n",
    "\n",
    "x_train_maxabs = a.fit_transform(x_train)\n",
    "x_test_maxabs = a.transform(x_test) \n",
    "print(x_test_maxabs)"
   ]
  },
  {
   "cell_type": "code",
   "execution_count": null,
   "metadata": {},
   "outputs": [],
   "source": []
  }
 ],
 "metadata": {
  "kernelspec": {
   "display_name": "Python 3",
   "language": "python",
   "name": "python3"
  },
  "language_info": {
   "codemirror_mode": {
    "name": "ipython",
    "version": 3
   },
   "file_extension": ".py",
   "mimetype": "text/x-python",
   "name": "python",
   "nbconvert_exporter": "python",
   "pygments_lexer": "ipython3",
   "version": "3.6.9"
  }
 },
 "nbformat": 4,
 "nbformat_minor": 2
}
